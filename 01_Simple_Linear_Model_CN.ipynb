{
  "nbformat": 4,
  "nbformat_minor": 0,
  "metadata": {
    "anaconda-cloud": {},
    "kernelspec": {
      "name": "python3",
      "display_name": "Python 3"
    },
    "language_info": {
      "codemirror_mode": {
        "name": "ipython",
        "version": 3
      },
      "file_extension": ".py",
      "mimetype": "text/x-python",
      "name": "python",
      "nbconvert_exporter": "python",
      "pygments_lexer": "ipython3",
      "version": "3.5.4"
    },
    "colab": {
      "name": "01_Simple_Linear_Model_CN.ipynb",
      "provenance": [],
      "include_colab_link": true
    },
    "accelerator": "GPU"
  },
  "cells": [
    {
      "cell_type": "markdown",
      "metadata": {
        "id": "view-in-github",
        "colab_type": "text"
      },
      "source": [
        "<a href=\"https://colab.research.google.com/github/staruniversse/hello-world/blob/master/01_Simple_Linear_Model_CN.ipynb\" target=\"_parent\"><img src=\"https://colab.research.google.com/assets/colab-badge.svg\" alt=\"Open In Colab\"/></a>"
      ]
    },
    {
      "cell_type": "markdown",
      "metadata": {
        "id": "sSj4prvcJcf-",
        "colab_type": "text"
      },
      "source": [
        "# TensorFlow 教程 #01\n",
        "# 简单线性模型\n",
        "\n",
        "by [Magnus Erik Hvass Pedersen](http://www.hvass-labs.org/)/[GitHub中文](https://github.com/Hvass-Labs/TensorFlow-Tutorials-Chinese)\n",
        "/ [GitHub](https://github.com/Hvass-Labs/TensorFlow-Tutorials) / [Videos on YouTube](https://www.youtube.com/playlist?list=PL9Hr9sNUjfsmEu1ZniY0XpHSzl5uihcXZ)\n",
        "\n",
        "中文翻译 [thrillerist](https://zhuanlan.zhihu.com/insight-pixel)修订[ZhouGeorge](https://github.com/ZhouGeorge)"
      ]
    },
    {
      "cell_type": "markdown",
      "metadata": {
        "id": "LTzNzMyXJcgB",
        "colab_type": "text"
      },
      "source": [
        "## 介绍\n",
        "\n",
        "这份教程示范了在TensorFlow中使用一个简单线性模型的工作流程。在载入称为MNIST的手写数字图片数据集后，我们在TensorFlow中定义并优化了一个数学模型。（我们）会画出结果并展开讨论。  \n",
        "\n",
        "你应该熟悉基本的线性代数，Python和Jupyter Notebook编辑器。如果你对机器学习和分类有基本的理解也很有帮助。"
      ]
    },
    {
      "cell_type": "markdown",
      "metadata": {
        "id": "eQxbvZkkJcgC",
        "colab_type": "text"
      },
      "source": [
        "## 导入"
      ]
    },
    {
      "cell_type": "code",
      "metadata": {
        "id": "gxaVCjMRY6yZ",
        "colab_type": "code",
        "outputId": "b948d72b-19d3-4a1a-ff62-aaa3f2a86dd4",
        "colab": {
          "base_uri": "https://localhost:8080/",
          "height": 101
        }
      },
      "source": [
        "import os\n",
        "work_dir = \"/content/TensorFlow-Tutorials/\"\n",
        "if os.getcwd() != work_dir:\n",
        "  !git clone https://github.com/Hvass-Labs/TensorFlow-Tutorials\n",
        "os.chdir(work_dir)\n"
      ],
      "execution_count": 0,
      "outputs": [
        {
          "output_type": "stream",
          "text": [
            "Cloning into 'TensorFlow-Tutorials'...\n",
            "remote: Enumerating objects: 480, done.\u001b[K\n",
            "remote: Total 480 (delta 0), reused 0 (delta 0), pack-reused 480\n",
            "Receiving objects: 100% (480/480), 61.91 MiB | 27.93 MiB/s, done.\n",
            "Resolving deltas: 100% (227/227), done.\n"
          ],
          "name": "stdout"
        }
      ]
    },
    {
      "cell_type": "code",
      "metadata": {
        "id": "SzIwZrvMJcgD",
        "colab_type": "code",
        "colab": {}
      },
      "source": [
        "%matplotlib inline\n",
        "import matplotlib.pyplot as plt\n",
        "import tensorflow as tf\n",
        "%tensorflow_version 1.x\n",
        "import numpy as np\n",
        "from sklearn.metrics import confusion_matrix\n"
      ],
      "execution_count": 0,
      "outputs": []
    },
    {
      "cell_type": "markdown",
      "metadata": {
        "id": "T9_LRAhfJcgI",
        "colab_type": "text"
      },
      "source": [
        "使用Python3.6（Anaconda）开发，TensorFlow版本是："
      ]
    },
    {
      "cell_type": "code",
      "metadata": {
        "id": "NgRbG2R0JcgJ",
        "colab_type": "code",
        "outputId": "07c387e2-a0dc-4ed6-c23d-957b9e70f0f9",
        "colab": {
          "base_uri": "https://localhost:8080/",
          "height": 34
        }
      },
      "source": [
        "tf.__version__"
      ],
      "execution_count": 0,
      "outputs": [
        {
          "output_type": "execute_result",
          "data": {
            "text/plain": [
              "'1.15.0'"
            ]
          },
          "metadata": {
            "tags": []
          },
          "execution_count": 4
        }
      ]
    },
    {
      "cell_type": "markdown",
      "metadata": {
        "id": "Wkz9sIuIJcgN",
        "colab_type": "text"
      },
      "source": [
        "## 载入数据"
      ]
    },
    {
      "cell_type": "markdown",
      "metadata": {
        "id": "Xjnj1UVbJcgO",
        "colab_type": "text"
      },
      "source": [
        "MNIST数据集大约有12MB，如果给定的地址里没有文件，它将自动下载。"
      ]
    },
    {
      "cell_type": "code",
      "metadata": {
        "id": "HnvpkH6YJcgP",
        "colab_type": "code",
        "outputId": "cc1d2eeb-57e0-4415-eac0-8c1512ed42f7",
        "colab": {
          "base_uri": "https://localhost:8080/",
          "height": 151
        }
      },
      "source": [
        "from mnist import MNIST\n",
        "data = MNIST(data_dir=\"data/MNIST/\")"
      ],
      "execution_count": 0,
      "outputs": [
        {
          "output_type": "stream",
          "text": [
            "Downloading train-images-idx3-ubyte.gz ...\n",
            "- Download progress: 100.0% Done!\n",
            "Downloading train-labels-idx1-ubyte.gz ...\n",
            "- Download progress: 100.0% Done!\n",
            "Downloading t10k-images-idx3-ubyte.gz ...\n",
            "- Download progress: 100.0% Done!\n",
            "Downloading t10k-labels-idx1-ubyte.gz ...\n",
            "- Download progress: 100.0% Done!\n"
          ],
          "name": "stdout"
        }
      ]
    },
    {
      "cell_type": "markdown",
      "metadata": {
        "id": "Mm0FALnjMZ7V",
        "colab_type": "text"
      },
      "source": [
        ""
      ]
    },
    {
      "cell_type": "markdown",
      "metadata": {
        "id": "8TGEQTSbJcgT",
        "colab_type": "text"
      },
      "source": [
        "现在已经载入了MNIST数据集，它由70,000张图像和对应的标签（比如图像的类别）组成。数据集分成三份互相独立的子集。我们在教程中只用训练集和测试集。"
      ]
    },
    {
      "cell_type": "code",
      "metadata": {
        "id": "X9dDQ4XDJcgU",
        "colab_type": "code",
        "outputId": "257b0621-404b-437b-b1ee-3f83b0eccaf8",
        "colab": {
          "base_uri": "https://localhost:8080/",
          "height": 84
        }
      },
      "source": [
        "print(\"Size of:\")\n",
        "print(\"- Training-set:\\t\\t{}\".format(data.num_train))\n",
        "print(\"- Validation-set:\\t{}\".format(data.num_val))\n",
        "print(\"- Test-set:\\t\\t{}\".format(data.num_test))"
      ],
      "execution_count": 0,
      "outputs": [
        {
          "output_type": "stream",
          "text": [
            "Size of:\n",
            "- Training-set:\t\t55000\n",
            "- Validation-set:\t5000\n",
            "- Test-set:\t\t10000\n"
          ],
          "name": "stdout"
        }
      ]
    },
    {
      "cell_type": "markdown",
      "metadata": {
        "id": "31hD5z3XJcgX",
        "colab_type": "text"
      },
      "source": [
        "为了方便接下去的操作，复制一些数据的维度。"
      ]
    },
    {
      "cell_type": "code",
      "metadata": {
        "id": "Z7lOltrXJcgY",
        "colab_type": "code",
        "colab": {}
      },
      "source": [
        "# The images are stored in one-dimensional arrays of this length.\n",
        "img_size_flat = data.img_size_flat\n",
        "\n",
        "# Tuple with height and width of images used to reshape arrays.\n",
        "img_shape = data.img_shape\n",
        "\n",
        "# Number of classes, one class for each of 10 digits.\n",
        "num_classes = data.num_classes"
      ],
      "execution_count": 0,
      "outputs": []
    },
    {
      "cell_type": "markdown",
      "metadata": {
        "id": "RFrg4WPpJcgb",
        "colab_type": "text"
      },
      "source": [
        "### One-Hot 编码"
      ]
    },
    {
      "cell_type": "markdown",
      "metadata": {
        "id": "QamVDHUXJcgc",
        "colab_type": "text"
      },
      "source": [
        "加载是数据包括了整形标签和所谓的One-Hot编码输出。One-Hot编码意味着标签从一个单独的数字转换成一个长度等于所有可能类别数量的向量。向量中除了第$i$个元素是1，其他元素都是0，这代表着它的类别是$i$'。比如，前面五张图像标签的One-Hot编码为："
      ]
    },
    {
      "cell_type": "code",
      "metadata": {
        "id": "nyCTOfgmJcgd",
        "colab_type": "code",
        "outputId": "287dcd08-cce5-4ece-d3f5-a023349068eb",
        "colab": {
          "base_uri": "https://localhost:8080/",
          "height": 101
        }
      },
      "source": [
        "data.y_test[0:5, :]"
      ],
      "execution_count": 0,
      "outputs": [
        {
          "output_type": "execute_result",
          "data": {
            "text/plain": [
              "array([[0., 0., 0., 0., 0., 0., 0., 1., 0., 0.],\n",
              "       [0., 0., 1., 0., 0., 0., 0., 0., 0., 0.],\n",
              "       [0., 1., 0., 0., 0., 0., 0., 0., 0., 0.],\n",
              "       [1., 0., 0., 0., 0., 0., 0., 0., 0., 0.],\n",
              "       [0., 0., 0., 0., 1., 0., 0., 0., 0., 0.]])"
            ]
          },
          "metadata": {
            "tags": []
          },
          "execution_count": 8
        }
      ]
    },
    {
      "cell_type": "markdown",
      "metadata": {
        "id": "fUoVoZPpJcgg",
        "colab_type": "text"
      },
      "source": [
        "我们也需要将标签转换成整形用于比较和性能评估。因此我们通过 `np.argmax()`取最大元素的索引，将One-Hot编码的向量转换成一个单独的数字。但是这些工作已经在我们加载数据的时候完成了，所以我们可以开到测试集中前5张图像的标签，对应上面的One-Hot数组。\n"
      ]
    },
    {
      "cell_type": "code",
      "metadata": {
        "id": "MAFKW0TXJcgh",
        "colab_type": "code",
        "outputId": "0ee7d6f9-44fa-4927-cc04-6457fb3ebade",
        "colab": {
          "base_uri": "https://localhost:8080/",
          "height": 34
        }
      },
      "source": [
        "data.y_test_cls[0:5]"
      ],
      "execution_count": 0,
      "outputs": [
        {
          "output_type": "execute_result",
          "data": {
            "text/plain": [
              "array([7, 2, 1, 0, 4])"
            ]
          },
          "metadata": {
            "tags": []
          },
          "execution_count": 9
        }
      ]
    },
    {
      "cell_type": "markdown",
      "metadata": {
        "id": "mDfwI5YtJcgk",
        "colab_type": "text"
      },
      "source": [
        "### 用来绘制图像的帮助函数"
      ]
    },
    {
      "cell_type": "markdown",
      "metadata": {
        "id": "wRG_3imBJcgl",
        "colab_type": "text"
      },
      "source": [
        "这个函数用来在3x3的栅格中画9张图像，然后在每张图像下面写出真实的和预测的类别。"
      ]
    },
    {
      "cell_type": "code",
      "metadata": {
        "id": "1fKTUkn4Jcgm",
        "colab_type": "code",
        "colab": {}
      },
      "source": [
        "def plot_images(images, cls_true, cls_pred=None):\n",
        "    assert len(images) == len(cls_true) == 9\n",
        "    \n",
        "    # Create figure with 3x3 sub-plots.\n",
        "    fig, axes = plt.subplots(3, 3)\n",
        "    fig.subplots_adjust(hspace=0.3, wspace=0.3)\n",
        "\n",
        "    for i, ax in enumerate(axes.flat):\n",
        "        # Plot image.\n",
        "        ax.imshow(images[i].reshape(img_shape), cmap='binary')\n",
        "\n",
        "        # Show true and predicted classes.\n",
        "        if cls_pred is None:\n",
        "            xlabel = \"True: {0}\".format(cls_true[i])\n",
        "        else:\n",
        "            xlabel = \"True: {0}, Pred: {1}\".format(cls_true[i], cls_pred[i])\n",
        "\n",
        "        ax.set_xlabel(xlabel)\n",
        "        \n",
        "        # Remove ticks from the plot.\n",
        "        ax.set_xticks([])\n",
        "        ax.set_yticks([])\n",
        "        \n",
        "    # Ensure the plot is shown correctly with multiple plots\n",
        "    # in a single Notebook cell.\n",
        "    plt.show()"
      ],
      "execution_count": 0,
      "outputs": []
    },
    {
      "cell_type": "code",
      "metadata": {
        "id": "ZoWG-h0tP7mE",
        "colab_type": "code",
        "colab": {}
      },
      "source": [
        ""
      ],
      "execution_count": 0,
      "outputs": []
    },
    {
      "cell_type": "markdown",
      "metadata": {
        "id": "IDOyBbrWJcgo",
        "colab_type": "text"
      },
      "source": [
        "### 绘制几张图像来看看数据是否正确"
      ]
    },
    {
      "cell_type": "code",
      "metadata": {
        "id": "6HkRl4UoJcgp",
        "colab_type": "code",
        "outputId": "3c19daf7-3902-443e-8e2b-82d7ae6d9478",
        "colab": {
          "base_uri": "https://localhost:8080/",
          "height": 262
        }
      },
      "source": [
        "# Get the first images from the test-set.\n",
        "images = data.x_test[0:9]\n",
        "\n",
        "# Get the true classes for those images.\n",
        "cls_true = data.y_test_cls[0:9]\n",
        "\n",
        "# Plot the images and labels using our helper-function above.\n",
        "plot_images(images=images, cls_true=cls_true)"
      ],
      "execution_count": 0,
      "outputs": [
        {
          "output_type": "display_data",
          "data": {
            "image/png": "[encoded data removed]",
            "text/plain": [
              "<Figure size 432x288 with 9 Axes>"
            ]
          },
          "metadata": {
            "tags": []
          }
        }
      ]
    },
    {
      "cell_type": "markdown",
      "metadata": {
        "id": "lh71d8sWJcgs",
        "colab_type": "text"
      },
      "source": [
        "## TensorFlow图\n",
        "\n",
        "TensorFlow的全部目的就是使用一个称之为计算图（computational graph）的东西，它会比直接在Python中进行相同计算量要高效得多。TensorFlow比Numpy更高效，因为TensorFlow了解整个需要运行的计算图，然而Numpy只知道某个时间点上唯一的数学运算。\n",
        "\n",
        "TensorFlow也能够自动地计算需要优化的变量的梯度，使得模型有更好的表现。这是由于Graph是简单数学表达式的结合，因此整个图的梯度可以用链式法则推导出来。\n",
        "\n",
        "TensorFlow还能利用多核CPU和GPU，Google也为TensorFlow制造了称为TPUs（Tensor Processing Units）的特殊芯片，它比GPU更快。\n",
        "\n",
        "一个TensorFlow图由下面几个部分组成，后面会详细描述：\n",
        "\n",
        "* 占位符变量（Placeholder）用来改变图的输入。\n",
        "* 模型变量（Model）将会被优化，使得模型表现得更好。\n",
        "* 模型本质上就是一些数学函数，它根据Placeholder和模型的输入变量来计算一些输出。\n",
        "* 一个cost度量用来指导变量的优化。\n",
        "* 一个优化策略会更新模型的变量。\n",
        "\n",
        "另外，TensorFlow图也包含了一些调试状态，比如用TensorBoard打印log数据，本教程不涉及这些。"
      ]
    },
    {
      "cell_type": "markdown",
      "metadata": {
        "id": "VvrvDPcOJcgs",
        "colab_type": "text"
      },
      "source": [
        "### 占位符 （Placeholder）变量"
      ]
    },
    {
      "cell_type": "markdown",
      "metadata": {
        "id": "ufdNl61HJcgt",
        "colab_type": "text"
      },
      "source": [
        "Placeholder是作为图的输入，每次我们运行图的时候都可能会改变它们。将这个过程称为feeding placeholder变量，后面将会描述它。\n",
        "\n",
        "首先我们为输入图像定义placeholder变量。这让我们可以改变输入到TensorFlow图中的图像。这也是一个张量（tensor），代表一个多维向量或矩阵。数据类型设置为`float32`，形状设为`[None, img_size_flat]`，`None`代表tensor可能保存着任意数量的图像，每张图象是一个长度为`img_size_flat`的向量。"
      ]
    },
    {
      "cell_type": "code",
      "metadata": {
        "id": "ZsebgQCKJcgu",
        "colab_type": "code",
        "colab": {}
      },
      "source": [
        "x = tf.placeholder(tf.float32, [None, img_size_flat])"
      ],
      "execution_count": 0,
      "outputs": []
    },
    {
      "cell_type": "markdown",
      "metadata": {
        "id": "Rscu10E8Jcgy",
        "colab_type": "text"
      },
      "source": [
        "接下来我们为输入变量`x`中的图像所对应的真实标签定义placeholder变量。变量的形状是`[None, num_classes]`，这代表着它保存了任意数量的标签，每个标签是长度为`num_classes`的向量，本例中长度为10。"
      ]
    },
    {
      "cell_type": "code",
      "metadata": {
        "id": "o57nskmHJcgy",
        "colab_type": "code",
        "colab": {}
      },
      "source": [
        "y_true = tf.placeholder(tf.float32, [None, num_classes])"
      ],
      "execution_count": 0,
      "outputs": []
    },
    {
      "cell_type": "markdown",
      "metadata": {
        "id": "rlKUPn6VJcg1",
        "colab_type": "text"
      },
      "source": [
        "最后我们为变量`x`中图像的真实类别定义placeholder变量。它们是整形，并且这个变量的维度设为`[None]`，代表placeholder变量是任意长的一维向量。"
      ]
    },
    {
      "cell_type": "code",
      "metadata": {
        "id": "DrI7Bkg8Jcg1",
        "colab_type": "code",
        "colab": {}
      },
      "source": [
        "y_true_cls = tf.placeholder(tf.int64, [None])"
      ],
      "execution_count": 0,
      "outputs": []
    },
    {
      "cell_type": "markdown",
      "metadata": {
        "id": "ZITi8f6sJcg4",
        "colab_type": "text"
      },
      "source": [
        "### 需要优化的变量"
      ]
    },
    {
      "cell_type": "markdown",
      "metadata": {
        "id": "sc1IVtccJcg4",
        "colab_type": "text"
      },
      "source": [
        "除了上面定义的那些给模型输入数据的变量之外，TensorFlow还需要改变一些模型变量，使得训练数据的表现更好。\n",
        "\n",
        "第一个需要优化的变量称为权重`weight`，TensorFlow变量需要被初始化为零，它的形状是`[img_size_flat, num_classes]`，因此它是一个`img_size_flat`行、`num_classes`列的二维张量（或矩阵）。"
      ]
    },
    {
      "cell_type": "code",
      "metadata": {
        "id": "CMreNPS8Jcg5",
        "colab_type": "code",
        "colab": {}
      },
      "source": [
        "weights = tf.Variable(tf.zeros([img_size_flat, num_classes]))"
      ],
      "execution_count": 0,
      "outputs": []
    },
    {
      "cell_type": "markdown",
      "metadata": {
        "id": "8cTFrBd6Jcg9",
        "colab_type": "text"
      },
      "source": [
        "第二个需要优化的是偏差变量`biases`，它被定义成一个长度为`num_classes`的1维张量（或向量）。"
      ]
    },
    {
      "cell_type": "code",
      "metadata": {
        "id": "6TFdM0N6Jcg-",
        "colab_type": "code",
        "colab": {}
      },
      "source": [
        "biases = tf.Variable(tf.zeros([num_classes]))"
      ],
      "execution_count": 0,
      "outputs": []
    },
    {
      "cell_type": "markdown",
      "metadata": {
        "id": "ClDAocf6JchB",
        "colab_type": "text"
      },
      "source": [
        "### 模型"
      ]
    },
    {
      "cell_type": "markdown",
      "metadata": {
        "id": "1_Cx6W-XJchB",
        "colab_type": "text"
      },
      "source": [
        "这个最基本的数学模型将placeholder变量`x`中的图像与权重`weight`相乘，然后加上偏差`biases`。\n",
        "\n",
        "结果是大小为`[num_images, num_classes]`的一个矩阵，由于`x`的形状是`[num_images, img_size_flat]` 并且 `weights`的形状是`[img_size_flat, num_classes]`，因此两个矩阵乘积的形状是`[num_images, num_classes]`，然后将`biases`向量添加到矩阵每一行中。"
      ]
    },
    {
      "cell_type": "code",
      "metadata": {
        "id": "TnhXyBxNJchC",
        "colab_type": "code",
        "colab": {}
      },
      "source": [
        "logits = tf.matmul(x, weights) + biases"
      ],
      "execution_count": 0,
      "outputs": []
    },
    {
      "cell_type": "markdown",
      "metadata": {
        "id": "QFG5EiH6JchE",
        "colab_type": "text"
      },
      "source": [
        "现在`logits`是一个 `num_images` 行`num_classes`列的矩阵，第$i$行第$j$列的那个元素代表着第$i$张输入图像有多大可能性是第$j$个类别。\n",
        "\n",
        "然而，这是很粗略的估计并且很难解释，因为数值可能很小或很大，因此我们想要对它们做归一化，使得`logits`矩阵的每一行相加为1，每个元素限制在0到1之间。这是用一个称为softmax的函数来计算的，结果保存在`y_pred`中。"
      ]
    },
    {
      "cell_type": "code",
      "metadata": {
        "id": "LSJdFnvsJchF",
        "colab_type": "code",
        "colab": {}
      },
      "source": [
        "y_pred = tf.nn.softmax(logits)"
      ],
      "execution_count": 0,
      "outputs": []
    },
    {
      "cell_type": "markdown",
      "metadata": {
        "id": "uDSubnuIJchH",
        "colab_type": "text"
      },
      "source": [
        "可以从`y_pred`矩阵中取每行最大元素的索引值，来得到预测的类别。"
      ]
    },
    {
      "cell_type": "code",
      "metadata": {
        "id": "Qip2K07AJchH",
        "colab_type": "code",
        "colab": {}
      },
      "source": [
        "y_pred_cls = tf.argmax(y_pred, axis=1)"
      ],
      "execution_count": 0,
      "outputs": []
    },
    {
      "cell_type": "markdown",
      "metadata": {
        "id": "_rEn4UpOJchJ",
        "colab_type": "text"
      },
      "source": [
        "### 优化损失函数"
      ]
    },
    {
      "cell_type": "markdown",
      "metadata": {
        "id": "CAa4dAKMJchK",
        "colab_type": "text"
      },
      "source": [
        "为了使模型更好地对输入图像进行分类，我们必须改变`weights`和`biases`变量。首先我们需要比较模型的预测输出`y_pred`和期望输出`y_true`，来了解目前模型的性能如何。\n",
        "\n",
        "交叉熵（cross-entropy）是一个在分类中使用的性能度量。交叉熵是一个常为正值的连续函数，如果模型的预测值精准地符合期望的输出，它就等于零。因此，优化的目的就是最小化交叉熵，通过改变模型中`weights`和`biases`的值，使交叉熵越接近零越好。\n",
        "\n",
        "TensorFlow有一个内置的计算交叉熵的函数。需要注意的是它使用`logits`的值，因为在它内部也计算了softmax。"
      ]
    },
    {
      "cell_type": "code",
      "metadata": {
        "id": "q1k1gFd_JchL",
        "colab_type": "code",
        "colab": {}
      },
      "source": [
        "cross_entropy = tf.nn.softmax_cross_entropy_with_logits_v2(logits=logits, labels=y_true)"
      ],
      "execution_count": 0,
      "outputs": []
    },
    {
      "cell_type": "markdown",
      "metadata": {
        "id": "aQMmaSuEJchM",
        "colab_type": "text"
      },
      "source": [
        "现在，我们已经为每个图像分类计算了交叉熵，所以有一个当前模型在每张图上的性能度量。但是为了用交叉熵来指导模型变量的优化，我们需要一个额外的标量值，因此我们简单地利用所有图像分类交叉熵的均值。"
      ]
    },
    {
      "cell_type": "code",
      "metadata": {
        "id": "i0IPy_XKJchN",
        "colab_type": "code",
        "colab": {}
      },
      "source": [
        "cost = tf.reduce_mean(cross_entropy)"
      ],
      "execution_count": 0,
      "outputs": []
    },
    {
      "cell_type": "markdown",
      "metadata": {
        "id": "D2JvbWspJchP",
        "colab_type": "text"
      },
      "source": [
        "### 优化方法"
      ]
    },
    {
      "cell_type": "markdown",
      "metadata": {
        "id": "smTMNcoSJchQ",
        "colab_type": "text"
      },
      "source": [
        "现在，我们有一个需要被最小化的损失度量，接着我们可以创建优化器。在这种情况中，用的是梯度下降的基本形式，步长设为0.5。\n",
        "\n",
        "优化过程并不是在这里执行。实际上，还没计算任何东西，我们只是往TensorFlow图中添加了优化器，以便之后的操作。"
      ]
    },
    {
      "cell_type": "code",
      "metadata": {
        "id": "26WdHvAkJchQ",
        "colab_type": "code",
        "colab": {}
      },
      "source": [
        "optimizer = tf.train.GradientDescentOptimizer(learning_rate=0.5).minimize(cost)"
      ],
      "execution_count": 0,
      "outputs": []
    },
    {
      "cell_type": "markdown",
      "metadata": {
        "id": "G2DH7cp4JchT",
        "colab_type": "text"
      },
      "source": [
        "### 性能度量"
      ]
    },
    {
      "cell_type": "markdown",
      "metadata": {
        "id": "toiI5BHxJchU",
        "colab_type": "text"
      },
      "source": [
        "我们需要另外一些性能度量，来向用户展示这个过程。\n",
        "\n",
        "这是一个布尔值向量，代表预测类型是否等于每张图片的真实类型。"
      ]
    },
    {
      "cell_type": "code",
      "metadata": {
        "id": "coVIOHwSJchU",
        "colab_type": "code",
        "colab": {}
      },
      "source": [
        "correct_prediction = tf.equal(y_pred_cls, y_true_cls)"
      ],
      "execution_count": 0,
      "outputs": []
    },
    {
      "cell_type": "markdown",
      "metadata": {
        "id": "plx8_tQ4JchX",
        "colab_type": "text"
      },
      "source": [
        "上面先将布尔值向量类型转换成浮点型向量，这样子False就变成0，True变成1，然后计算这些值的平均数，以此来计算分类的准确度。"
      ]
    },
    {
      "cell_type": "code",
      "metadata": {
        "id": "WTlem6cVJchY",
        "colab_type": "code",
        "colab": {}
      },
      "source": [
        "accuracy = tf.reduce_mean(tf.cast(correct_prediction, tf.float32))"
      ],
      "execution_count": 0,
      "outputs": []
    },
    {
      "cell_type": "markdown",
      "metadata": {
        "id": "CQbEuw71Jcha",
        "colab_type": "text"
      },
      "source": [
        "## 运行TensorFlow"
      ]
    },
    {
      "cell_type": "markdown",
      "metadata": {
        "id": "zdU5oPavJcha",
        "colab_type": "text"
      },
      "source": [
        "### 创建TensorFlow会话（session）\n",
        "\n",
        "一旦创建了TensorFlow图，我们需要创建一个TensorFlow session，用来运行图。"
      ]
    },
    {
      "cell_type": "code",
      "metadata": {
        "id": "_fgjx61DJchb",
        "colab_type": "code",
        "colab": {}
      },
      "source": [
        "session = tf.Session()"
      ],
      "execution_count": 0,
      "outputs": []
    },
    {
      "cell_type": "markdown",
      "metadata": {
        "id": "MawFw5NtJchd",
        "colab_type": "text"
      },
      "source": [
        "### 初始化变量\n",
        "\n",
        "我们需要在开始优化`weights`和`biases`变量之前对它们进行初始化。"
      ]
    },
    {
      "cell_type": "code",
      "metadata": {
        "id": "J15WyIKjJche",
        "colab_type": "code",
        "colab": {}
      },
      "source": [
        "session.run(tf.global_variables_initializer())"
      ],
      "execution_count": 0,
      "outputs": []
    },
    {
      "cell_type": "markdown",
      "metadata": {
        "id": "IVJR6VEqJchg",
        "colab_type": "text"
      },
      "source": [
        "### 用来优化迭代的帮助函数"
      ]
    },
    {
      "cell_type": "markdown",
      "metadata": {
        "id": "uUvJwAXKJchh",
        "colab_type": "text"
      },
      "source": [
        "在训练集中有50,000张图。用这些图像计算模型的梯度会花很多时间。因此我们利用随机梯度下降的方法，它在优化器的每次迭代里只用到了一小部分的图像。"
      ]
    },
    {
      "cell_type": "code",
      "metadata": {
        "id": "X0Z3RHI8Jchi",
        "colab_type": "code",
        "colab": {}
      },
      "source": [
        "batch_size = 100"
      ],
      "execution_count": 0,
      "outputs": []
    },
    {
      "cell_type": "markdown",
      "metadata": {
        "id": "9X_WqdanJchl",
        "colab_type": "text"
      },
      "source": [
        "函数执行了多次的优化迭代来逐步地提升模型的`weights`和`biases`。在每次迭代中，从训练集中选择一批新的数据，然后TensorFlow用这些训练样本来执行优化器。"
      ]
    },
    {
      "cell_type": "code",
      "metadata": {
        "id": "5yNpo9x0Jchl",
        "colab_type": "code",
        "colab": {}
      },
      "source": [
        "def optimize(num_iterations):\n",
        "    for i in range(num_iterations):\n",
        "        # Get a batch of training examples.\n",
        "        # x_batch now holds a batch of images and\n",
        "        # y_true_batch are the true labels for those images.\n",
        "        x_batch, y_true_batch, _ = data.random_batch(batch_size=batch_size)\n",
        "        \n",
        "        # Put the batch into a dict with the proper names\n",
        "        # for placeholder variables in the TensorFlow graph.\n",
        "        # Note that the placeholder for y_true_cls is not set\n",
        "        # because it is not used during training.\n",
        "        feed_dict_train = {x: x_batch,\n",
        "                           y_true: y_true_batch}\n",
        "\n",
        "        # Run the optimizer using this batch of training data.\n",
        "        # TensorFlow assigns the variables in feed_dict_train\n",
        "        # to the placeholder variables and then runs the optimizer.\n",
        "        session.run(optimizer, feed_dict=feed_dict_train)"
      ],
      "execution_count": 0,
      "outputs": []
    },
    {
      "cell_type": "markdown",
      "metadata": {
        "id": "b0nlV1WyJchr",
        "colab_type": "text"
      },
      "source": [
        "### 展示性能的帮助函数"
      ]
    },
    {
      "cell_type": "markdown",
      "metadata": {
        "id": "xvK4NBW6Jchs",
        "colab_type": "text"
      },
      "source": [
        "测试集数据字典被当做TensorFlow图的输入。注意，在TensorFlow图中，placeholder变量必须使用正确的名字。"
      ]
    },
    {
      "cell_type": "code",
      "metadata": {
        "id": "wbU4RWIRJchs",
        "colab_type": "code",
        "colab": {}
      },
      "source": [
        "feed_dict_test = {x: data.x_test,\n",
        "                  y_true: data.y_test,\n",
        "                  y_true_cls: data.y_test_cls}"
      ],
      "execution_count": 0,
      "outputs": []
    },
    {
      "cell_type": "markdown",
      "metadata": {
        "id": "PUXopo6yJchv",
        "colab_type": "text"
      },
      "source": [
        "用来打印测试集分类准确度的函数。"
      ]
    },
    {
      "cell_type": "code",
      "metadata": {
        "id": "tZHZF88BJchw",
        "colab_type": "code",
        "colab": {}
      },
      "source": [
        "def print_accuracy():\n",
        "    # Use TensorFlow to compute the accuracy.\n",
        "    acc = session.run(accuracy, feed_dict=feed_dict_test)\n",
        "    \n",
        "    # Print the accuracy.\n",
        "    print(\"Accuracy on test-set: {0:.1%}\".format(acc))"
      ],
      "execution_count": 0,
      "outputs": []
    },
    {
      "cell_type": "markdown",
      "metadata": {
        "id": "mzUuvX72Jchz",
        "colab_type": "text"
      },
      "source": [
        "用scikit-learn打印混淆矩阵。"
      ]
    },
    {
      "cell_type": "code",
      "metadata": {
        "id": "V5ZaZzHLJch1",
        "colab_type": "code",
        "colab": {}
      },
      "source": [
        "def print_confusion_matrix():\n",
        "    # Get the true classifications for the test-set.\n",
        "    cls_true = data.y_test_cls\n",
        "    \n",
        "    # Get the predicted classifications for the test-set.\n",
        "    cls_pred = session.run(y_pred_cls, feed_dict=feed_dict_test)\n",
        "\n",
        "    # Get the confusion matrix using sklearn.\n",
        "    cm = confusion_matrix(y_true=cls_true,\n",
        "                          y_pred=cls_pred)\n",
        "\n",
        "    # Print the confusion matrix as text.\n",
        "    print(cm)\n",
        "\n",
        "    # Plot the confusion matrix as an image.\n",
        "    plt.imshow(cm, interpolation='nearest', cmap=plt.cm.Blues)\n",
        "\n",
        "    # Make various adjustments to the plot.\n",
        "    plt.tight_layout()\n",
        "    plt.colorbar()\n",
        "    tick_marks = np.arange(num_classes)\n",
        "    plt.xticks(tick_marks, range(num_classes))\n",
        "    plt.yticks(tick_marks, range(num_classes))\n",
        "    plt.xlabel('Predicted')\n",
        "    plt.ylabel('True')\n",
        "    \n",
        "    # Ensure the plot is shown correctly with multiple plots\n",
        "    # in a single Notebook cell.\n",
        "    plt.show()"
      ],
      "execution_count": 0,
      "outputs": []
    },
    {
      "cell_type": "markdown",
      "metadata": {
        "id": "ZL4Vt80XJch5",
        "colab_type": "text"
      },
      "source": [
        "绘制测试集中误分类图像的函数。"
      ]
    },
    {
      "cell_type": "code",
      "metadata": {
        "id": "0sIv5TX5Jch6",
        "colab_type": "code",
        "colab": {}
      },
      "source": [
        "def plot_example_errors():\n",
        "    # Use TensorFlow to get a list of boolean values\n",
        "    # whether each test-image has been correctly classified,\n",
        "    # and a list for the predicted class of each image.\n",
        "    correct, cls_pred = session.run([correct_prediction, y_pred_cls],\n",
        "                                    feed_dict=feed_dict_test)\n",
        "\n",
        "    # Negate the boolean array.\n",
        "    incorrect = (correct == False)\n",
        "    \n",
        "    # Get the images from the test-set that have been\n",
        "    # incorrectly classified.\n",
        "    images = data.x_test[incorrect]\n",
        "    \n",
        "    # Get the predicted classes for those images.\n",
        "    cls_pred = cls_pred[incorrect]\n",
        "\n",
        "    # Get the true classes for those images.\n",
        "    cls_true = data.y_test_cls[incorrect]\n",
        "    \n",
        "    # Plot the first 9 images.\n",
        "    plot_images(images=images[0:9],\n",
        "                cls_true=cls_true[0:9],\n",
        "                cls_pred=cls_pred[0:9])"
      ],
      "execution_count": 0,
      "outputs": []
    },
    {
      "cell_type": "markdown",
      "metadata": {
        "id": "APT6FPNAJch9",
        "colab_type": "text"
      },
      "source": [
        "### 绘制模型权重的帮助函数"
      ]
    },
    {
      "cell_type": "markdown",
      "metadata": {
        "id": "4uUw56cpJch9",
        "colab_type": "text"
      },
      "source": [
        "这个函数用来绘制模型的权重`weights`。画了10张图像，训练模型所识别出的每个数字对应着一张图。"
      ]
    },
    {
      "cell_type": "code",
      "metadata": {
        "id": "pB59L3UjJch-",
        "colab_type": "code",
        "colab": {}
      },
      "source": [
        "def plot_weights():\n",
        "    # Get the values for the weights from the TensorFlow variable.\n",
        "    w = session.run(weights)\n",
        "    \n",
        "    # Get the lowest and highest values for the weights.\n",
        "    # This is used to correct the colour intensity across\n",
        "    # the images so they can be compared with each other.\n",
        "    w_min = np.min(w)\n",
        "    w_max = np.max(w)\n",
        "\n",
        "    # Create figure with 3x4 sub-plots,\n",
        "    # where the last 2 sub-plots are unused.\n",
        "    fig, axes = plt.subplots(3, 4)\n",
        "    fig.subplots_adjust(hspace=0.3, wspace=0.3)\n",
        "\n",
        "    for i, ax in enumerate(axes.flat):\n",
        "        # Only use the weights for the first 10 sub-plots.\n",
        "        if i<10:\n",
        "            # Get the weights for the i'th digit and reshape it.\n",
        "            # Note that w.shape == (img_size_flat, 10)\n",
        "            image = w[:, i].reshape(img_shape)\n",
        "\n",
        "            # Set the label for the sub-plot.\n",
        "            ax.set_xlabel(\"Weights: {0}\".format(i))\n",
        "\n",
        "            # Plot the image.\n",
        "            ax.imshow(image, vmin=w_min, vmax=w_max, cmap='seismic')\n",
        "\n",
        "        # Remove ticks from each sub-plot.\n",
        "        ax.set_xticks([])\n",
        "        ax.set_yticks([])\n",
        "        \n",
        "    # Ensure the plot is shown correctly with multiple plots\n",
        "    # in a single Notebook cell.\n",
        "    plt.show()"
      ],
      "execution_count": 0,
      "outputs": []
    },
    {
      "cell_type": "markdown",
      "metadata": {
        "id": "nUSdH_y2JciB",
        "colab_type": "text"
      },
      "source": [
        "## 优化之前的性能\n",
        "\n",
        "测试集上的准确度是9.8%。这是由于模型只做了初始化，并没做任何优化，所以它通常将图像预测成数字零，正如下面绘制的图像那样，刚好测试集中9.8%的图像是数字零。"
      ]
    },
    {
      "cell_type": "code",
      "metadata": {
        "id": "CD-Y5SiWJciC",
        "colab_type": "code",
        "outputId": "953da6e1-34bc-4f6a-ae22-5df57a67dda9",
        "colab": {
          "base_uri": "https://localhost:8080/",
          "height": 34
        }
      },
      "source": [
        "print_accuracy()"
      ],
      "execution_count": 0,
      "outputs": [
        {
          "output_type": "stream",
          "text": [
            "Accuracy on test-set: 9.8%\n"
          ],
          "name": "stdout"
        }
      ]
    },
    {
      "cell_type": "code",
      "metadata": {
        "id": "ycUGqWMIJciE",
        "colab_type": "code",
        "outputId": "0f994f80-b1f8-426c-bcc1-f5ee3bfb8cc1",
        "colab": {
          "base_uri": "https://localhost:8080/",
          "height": 262
        }
      },
      "source": [
        "plot_example_errors()"
      ],
      "execution_count": 0,
      "outputs": [
        {
          "output_type": "display_data",
          "data": {
            "image/png": "[encoded data removed]",
            "text/plain": [
              "<Figure size 432x288 with 9 Axes>"
            ]
          },
          "metadata": {
            "tags": []
          }
        }
      ]
    },
    {
      "cell_type": "markdown",
      "metadata": {
        "id": "kw6a79HXJciG",
        "colab_type": "text"
      },
      "source": [
        "## 1次迭代优化后的性能\n",
        "\n",
        "在完成一次迭代优化之后，模型在测试集上的准确率从9.8%提高到了40.7%。这意味着它大约10次里面会误分类6次，正如下面所显示的。"
      ]
    },
    {
      "cell_type": "code",
      "metadata": {
        "id": "PlemX7WFJciH",
        "colab_type": "code",
        "colab": {}
      },
      "source": [
        "optimize(num_iterations=1)"
      ],
      "execution_count": 0,
      "outputs": []
    },
    {
      "cell_type": "code",
      "metadata": {
        "id": "zzArcwepJciJ",
        "colab_type": "code",
        "outputId": "81c1fd18-1186-4f8a-fdfe-62a23dee6aaa",
        "colab": {
          "base_uri": "https://localhost:8080/",
          "height": 34
        }
      },
      "source": [
        "print_accuracy()"
      ],
      "execution_count": 0,
      "outputs": [
        {
          "output_type": "stream",
          "text": [
            "Accuracy on test-set: 24.2%\n"
          ],
          "name": "stdout"
        }
      ]
    },
    {
      "cell_type": "code",
      "metadata": {
        "id": "5WHkTBrYJciL",
        "colab_type": "code",
        "outputId": "d481a9e2-063c-491d-a45a-d71c87ccbc24",
        "colab": {
          "base_uri": "https://localhost:8080/",
          "height": 262
        }
      },
      "source": [
        "plot_example_errors()"
      ],
      "execution_count": 0,
      "outputs": [
        {
          "output_type": "display_data",
          "data": {
            "image/png": "[encoded data removed]",
            "text/plain": [
              "<Figure size 432x288 with 9 Axes>"
            ]
          },
          "metadata": {
            "tags": []
          }
        }
      ]
    },
    {
      "cell_type": "markdown",
      "metadata": {
        "id": "tc0EFULuJciN",
        "colab_type": "text"
      },
      "source": [
        "下面绘制的是权重。正值为红色，负值为蓝色。这些权重可以直观地理解为图像滤波器。\n",
        "\n",
        "例如，权重用来确定一张数字零的图像对圆形图像有正反应（红色），对圆形图像的中间部分有负反应（蓝色）。\n",
        "\n",
        "类似的，权重也用来确定一张数字一的图像对图像中心垂直线段有正反应（红色），对线段周围有负反应（蓝色）。\n",
        "\n",
        "注意到权重大多看起来跟它要识别的数字很像。这是因为只做了一次迭代，即权重只在100张图像上训练。等经过上千张图像的训练之后，权重会变得更难分辨，因为它们需要识别出数字的许多种书写方法。"
      ]
    },
    {
      "cell_type": "code",
      "metadata": {
        "id": "ZDg9HlvwJciO",
        "colab_type": "code",
        "outputId": "8b9d2a96-a46c-412d-fbde-ca8ad0071c0e",
        "colab": {
          "base_uri": "https://localhost:8080/",
          "height": 262
        }
      },
      "source": [
        "plot_weights()"
      ],
      "execution_count": 0,
      "outputs": [
        {
          "output_type": "display_data",
          "data": {
            "image/png": "[encoded data removed]",
            "text/plain": [
              "<Figure size 432x288 with 12 Axes>"
            ]
          },
          "metadata": {
            "tags": []
          }
        }
      ]
    },
    {
      "cell_type": "markdown",
      "metadata": {
        "id": "sigD5ZP7JciP",
        "colab_type": "text"
      },
      "source": [
        "## 10次优化迭代后的性能"
      ]
    },
    {
      "cell_type": "code",
      "metadata": {
        "id": "V7CP79lwJciQ",
        "colab_type": "code",
        "colab": {}
      },
      "source": [
        "# We have already performed 1 iteration.\n",
        "optimize(num_iterations=9)"
      ],
      "execution_count": 0,
      "outputs": []
    },
    {
      "cell_type": "code",
      "metadata": {
        "id": "r6iZdot5JciT",
        "colab_type": "code",
        "outputId": "6b7899b2-6ebe-481f-f79e-7eb7faf01e01",
        "colab": {
          "base_uri": "https://localhost:8080/",
          "height": 34
        }
      },
      "source": [
        "print_accuracy()"
      ],
      "execution_count": 0,
      "outputs": [
        {
          "output_type": "stream",
          "text": [
            "Accuracy on test-set: 78.3%\n"
          ],
          "name": "stdout"
        }
      ]
    },
    {
      "cell_type": "code",
      "metadata": {
        "id": "ehqZF6TYJciV",
        "colab_type": "code",
        "outputId": "039c0328-a2cf-4099-ecaa-6b1bead624e5",
        "colab": {
          "base_uri": "https://localhost:8080/",
          "height": 262
        }
      },
      "source": [
        "plot_example_errors()"
      ],
      "execution_count": 0,
      "outputs": [
        {
          "output_type": "display_data",
          "data": {
            "image/png": "[encoded data removed]",
            "text/plain": [
              "<Figure size 432x288 with 9 Axes>"
            ]
          },
          "metadata": {
            "tags": []
          }
        }
      ]
    },
    {
      "cell_type": "code",
      "metadata": {
        "id": "6rzB-3XIJciX",
        "colab_type": "code",
        "outputId": "efe5dea4-757d-44f0-a388-7c8db242fd69",
        "colab": {
          "base_uri": "https://localhost:8080/",
          "height": 262
        }
      },
      "source": [
        "plot_weights()"
      ],
      "execution_count": 0,
      "outputs": [
        {
          "output_type": "display_data",
          "data": {
            "image/png": "[encoded data removed]",
            "text/plain": [
              "<Figure size 432x288 with 12 Axes>"
            ]
          },
          "metadata": {
            "tags": []
          }
        }
      ]
    },
    {
      "cell_type": "markdown",
      "metadata": {
        "id": "ak5epMdOJciY",
        "colab_type": "text"
      },
      "source": [
        "## 1000次迭代之后的性能\n",
        "\n",
        "在迭代了1000次之后，模型在十次里面大约只误识别了一次。如下图所示，有些误识别情有可原，因为即使在人类眼里，也很难确定图像（的数字），然而有一些图像是很明显的，好的模型应该能分辨出来。但这个简单的模型无法达到更好的性能，因此需要更为复杂的模型。"
      ]
    },
    {
      "cell_type": "code",
      "metadata": {
        "id": "B3_F1rmtJciZ",
        "colab_type": "code",
        "colab": {}
      },
      "source": [
        "# We have already performed 10 iterations.\n",
        "optimize(num_iterations=990)"
      ],
      "execution_count": 0,
      "outputs": []
    },
    {
      "cell_type": "code",
      "metadata": {
        "id": "wXEVR8JdJcia",
        "colab_type": "code",
        "outputId": "294de72a-fb83-450d-de3f-2c7c8d6b9aff",
        "colab": {
          "base_uri": "https://localhost:8080/",
          "height": 34
        }
      },
      "source": [
        "print_accuracy()"
      ],
      "execution_count": 0,
      "outputs": [
        {
          "output_type": "stream",
          "text": [
            "Accuracy on test-set: 91.5%\n"
          ],
          "name": "stdout"
        }
      ]
    },
    {
      "cell_type": "code",
      "metadata": {
        "id": "SQVSPj7aJcic",
        "colab_type": "code",
        "outputId": "c87dfbd4-0a2f-4e8d-8e05-be625aba43ca",
        "colab": {
          "base_uri": "https://localhost:8080/",
          "height": 262
        }
      },
      "source": [
        "plot_example_errors()"
      ],
      "execution_count": 0,
      "outputs": [
        {
          "output_type": "display_data",
          "data": {
            "image/png": "[encoded data removed]",
            "text/plain": [
              "<Figure size 432x288 with 9 Axes>"
            ]
          },
          "metadata": {
            "tags": []
          }
        }
      ]
    },
    {
      "cell_type": "markdown",
      "metadata": {
        "id": "ANJELvTrJcid",
        "colab_type": "text"
      },
      "source": [
        "模型经过了1000次迭代训练，每次迭代用到训练集里面的100张图像。由于图像的多样化，现在权重变得很难辨认，我们可能会怀疑这些权重是否真的理解数字是怎么由线条组成的，或者模型只是记住了许多不同的像素。"
      ]
    },
    {
      "cell_type": "code",
      "metadata": {
        "id": "A0k-TXaqJcie",
        "colab_type": "code",
        "outputId": "8a108aa0-a341-4195-bba2-6a643580e955",
        "colab": {
          "base_uri": "https://localhost:8080/",
          "height": 262
        }
      },
      "source": [
        "plot_weights()"
      ],
      "execution_count": 0,
      "outputs": [
        {
          "output_type": "display_data",
          "data": {
            "image/png": "[encoded data removed]",
            "text/plain": [
              "<Figure size 432x288 with 12 Axes>"
            ]
          },
          "metadata": {
            "tags": []
          }
        }
      ]
    },
    {
      "cell_type": "markdown",
      "metadata": {
        "id": "1VDaEnW7Jcih",
        "colab_type": "text"
      },
      "source": [
        "我们也可以打印并绘制出混淆矩阵，它让我们看到误分类的更多细节。例如，它展示了描绘着数字5的图像有时会被误分类成其他可能的数字，但大多是6或8。"
      ]
    },
    {
      "cell_type": "code",
      "metadata": {
        "id": "yV3sOigPJcii",
        "colab_type": "code",
        "outputId": "03a95831-3209-4ed5-ffc6-86bc60e37d03",
        "colab": {
          "base_uri": "https://localhost:8080/",
          "height": 479
        }
      },
      "source": [
        "print_confusion_matrix()"
      ],
      "execution_count": 0,
      "outputs": [
        {
          "output_type": "stream",
          "text": [
            "[[ 953    0    3    2    0    4   11    2    5    0]\n",
            " [   0 1095    2    2    0    2    4    2   28    0]\n",
            " [   5    6  910   12    6    2   13   17   52    9]\n",
            " [   3    1   22  900    0   26    2   16   34    6]\n",
            " [   1    1    5    1  896    0   12    5   20   41]\n",
            " [  10    2    6   49    7  734   18    8   51    7]\n",
            " [   7    3    5    0   11    9  912    4    7    0]\n",
            " [   2    6   21    7    6    0    0  957    4   25]\n",
            " [   4    5    5   15    8   17    8   11  897    4]\n",
            " [   9    5    2    7   24    7    0   36   22  897]]\n"
          ],
          "name": "stdout"
        },
        {
          "output_type": "display_data",
          "data": {
            "image/png": "[encoded data removed]",
            "text/plain": [
              "<Figure size 432x288 with 2 Axes>"
            ]
          },
          "metadata": {
            "tags": []
          }
        }
      ]
    },
    {
      "cell_type": "markdown",
      "metadata": {
        "id": "BTfYNzObJcik",
        "colab_type": "text"
      },
      "source": [
        "现在我们用TensorFlow完成了任务，关闭session，释放资源。"
      ]
    },
    {
      "cell_type": "code",
      "metadata": {
        "id": "73dRJfvrJcik",
        "colab_type": "code",
        "colab": {}
      },
      "source": [
        "# This has been commented out in case you want to modify and experiment\n",
        "# with the Notebook without having to restart it.\n",
        "# session.close()"
      ],
      "execution_count": 0,
      "outputs": []
    },
    {
      "cell_type": "markdown",
      "metadata": {
        "id": "Vxnf1wwbJcim",
        "colab_type": "text"
      },
      "source": [
        "## 练习\n",
        "\n",
        "These are a few suggestions for exercises that may help improve your skills with TensorFlow. It is important to get hands-on experience with TensorFlow in order to learn how to use it properly.\n",
        "\n",
        "下面使一些可能会让你提升TensorFlow技能的一些建议练习。为了学习如何更合适地使用TensorFlow，实践经验是很重要的。\n",
        "在你对这个Notebook进行修改之前，可能需要先备份一下。\n",
        "\n",
        "* 改变优化器的学习率。\n",
        "* 改变优化器，比如用`AdagradOptimizer` 或 `AdamOptimizer`。\n",
        "* 将batch-size改为1或1000。\n",
        "* 这些改变如何影响性能？\n",
        "* 你觉得这些改变对其他分类问题或数学模型有相同的影响吗?\n",
        "* 如果你不改变任何参数，多次运行Notebook，会得到完成一样的结果吗？为什么？\n",
        "* 改变`plot_example_errors()` 函数，使它打印误分类的 `logits`和`y_pred`值。\n",
        "* 用`sparse_softmax_cross_entropy_with_logits` 代替 `softmax_cross_entropy_with_logits`。这可能需要改变代码的多个地方。探讨使用这两中方法的优缺点。\n",
        "* 不看源码，自己重写程序。\n",
        "* 向朋友解释程序如何工作。"
      ]
    },
    {
      "cell_type": "markdown",
      "metadata": {
        "id": "IbRBYI06Jcim",
        "colab_type": "text"
      },
      "source": [
        "## License (MIT)\n",
        "\n",
        "Copyright (c) 2016 by [Magnus Erik Hvass Pedersen](http://www.hvass-labs.org/)\n",
        "\n",
        "Permission is hereby granted, free of charge, to any person obtaining a copy of this software and associated documentation files (the \"Software\"), to deal in the Software without restriction, including without limitation the rights to use, copy, modify, merge, publish, distribute, sublicense, and/or sell copies of the Software, and to permit persons to whom the Software is furnished to do so, subject to the following conditions:\n",
        "\n",
        "The above copyright notice and this permission notice shall be included in all copies or substantial portions of the Software.\n",
        "\n",
        "THE SOFTWARE IS PROVIDED \"AS IS\", WITHOUT WARRANTY OF ANY KIND, EXPRESS OR IMPLIED, INCLUDING BUT NOT LIMITED TO THE WARRANTIES OF MERCHANTABILITY, FITNESS FOR A PARTICULAR PURPOSE AND NONINFRINGEMENT. IN NO EVENT SHALL THE AUTHORS OR COPYRIGHT HOLDERS BE LIABLE FOR ANY CLAIM, DAMAGES OR OTHER LIABILITY, WHETHER IN AN ACTION OF CONTRACT, TORT OR OTHERWISE, ARISING FROM, OUT OF OR IN CONNECTION WITH THE SOFTWARE OR THE USE OR OTHER DEALINGS IN THE SOFTWARE."
      ]
    }
  ]
}